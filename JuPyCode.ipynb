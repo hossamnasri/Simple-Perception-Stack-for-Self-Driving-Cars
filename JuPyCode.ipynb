{
 "cells": [
  {
   "cell_type": "code",
   "execution_count": 1,
   "id": "8559368e",
   "metadata": {},
   "outputs": [],
   "source": [
    "import cv2\n",
    "import numpy as np"
   ]
  },
  {
   "cell_type": "code",
   "execution_count": 2,
   "id": "05b3dec1",
   "metadata": {},
   "outputs": [],
   "source": [
    "def preprocess(img):\n",
    "    height = img.shape[0]\n",
    "    width = img.shape[1]\n",
    "    roi_vertices =[\n",
    "        (0, height),\n",
    "        (width*0.5, height*0.6),\n",
    "        (width, height*0.8)\n",
    "    ]\n",
    "    gray = cv2.cvtColor(img,cv2.COLOR_RGB2GRAY)\n",
    "    canny = cv2.Canny(gray,0,255)\n",
    "    cropped = roi(canny,np.array([roi_vertices],np.int32))\n",
    "    cv2.imshow('c',cropped)\n",
    "    return cropped\n",
    "def roi(img,vertices):\n",
    "    mask = np.zeros_like(img)\n",
    "    cv2.fillPoly(mask,vertices,255)\n",
    "    masked_image=cv2.bitwise_and(img,mask)\n",
    "    cv2.imshow('a',masked_image)\n",
    "    return masked_image\n",
    "def draw_hough_lines(img,lines):\n",
    "    img = np.copy(img)\n",
    "    blank_image = np.zeros((img.shape[0],img.shape[1],3),dtype=np.uint8)\n",
    "    try:\n",
    "        for line in lines:\n",
    "            for x1,y1,x2,y2 in line:\n",
    "                cv2.line(blank_image,(x1,y1),(x2,y2),(255,0,255),thickness=5)\n",
    "    except:\n",
    "        pass\n",
    "    cv2.imshow('l',blank_image)\n",
    "    img = cv2.addWeighted(img,1,blank_image,1,0.0)\n",
    "    return img"
   ]
  },
  {
   "cell_type": "code",
   "execution_count": 15,
   "id": "cc72cde7",
   "metadata": {},
   "outputs": [],
   "source": [
    "def apply_code(path,file_saved):\n",
    "    vid = cv2.VideoCapture(path)\n",
    "    frame_width=int(vid.get(3))\n",
    "    frame_height=int(vid.get(4))\n",
    "    size = (frame_width, frame_height)\n",
    "    result=cv2.VideoWriter(file_saved,cv2.VideoWriter_fourcc(*'MJPG'),10, size)\n",
    "    while True:\n",
    "        ret,frame = vid.read()\n",
    "        if frame is None:\n",
    "            break\n",
    "        cropped= preprocess(frame)\n",
    "        lines = cv2.HoughLinesP(cropped,rho=8,threshold=255,theta=np.pi/180,minLineLength=60,maxLineGap=150)\n",
    "        img = draw_hough_lines(frame,lines)\n",
    "        cv2.imshow('Lane detection',img)\n",
    "        result.write(img)\n",
    "        if cv2.waitKey(1) & 0xFF == ord('x'):\n",
    "            break\n",
    "    result.release()\n",
    "    vid.release()\n",
    "    cv2.destroyAllWindows()"
   ]
  },
  {
   "cell_type": "code",
   "execution_count": 16,
   "id": "5db1feb5",
   "metadata": {},
   "outputs": [],
   "source": [
    "apply_code('project_video.mp4','project_out_video.avi')"
   ]
  },
  {
   "cell_type": "code",
   "execution_count": null,
   "id": "86eb4b40",
   "metadata": {},
   "outputs": [],
   "source": []
  }
 ],
 "metadata": {
  "kernelspec": {
   "display_name": "Python 3",
   "language": "python",
   "name": "python3"
  },
  "language_info": {
   "codemirror_mode": {
    "name": "ipython",
    "version": 3
   },
   "file_extension": ".py",
   "mimetype": "text/x-python",
   "name": "python",
   "nbconvert_exporter": "python",
   "pygments_lexer": "ipython3",
   "version": "3.8.8"
  }
 },
 "nbformat": 4,
 "nbformat_minor": 5
}
